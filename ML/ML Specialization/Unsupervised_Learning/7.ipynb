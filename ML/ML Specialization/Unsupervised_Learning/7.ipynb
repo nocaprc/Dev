{
 "cells": [
  {
   "cell_type": "markdown",
   "metadata": {},
   "source": [
    "# Deep Q-Learning - Lunar Lander\n",
    "\n",
    "In this assignment, you will train an agent to land a lunar lander safely on a landing pad on the surface of the moon.\n",
    "\n",
    "\n",
    "# Outline\n",
    "- [ 1 - Import Packages <img align=\"Right\" src=\"./images/lunar_lander.gif\" width = 60% >](#1)\n",
    "- [ 2 - Hyperparameters](#2)\n",
    "- [ 3 - The Lunar Lander Environment](#3)\n",
    "  - [ 3.1 Action Space](#3.1)\n",
    "  - [ 3.2 Observation Space](#3.2)\n",
    "  - [ 3.3 Rewards](#3.3)\n",
    "  - [ 3.4 Episode Termination](#3.4)\n",
    "- [ 4 - Load the Environment](#4)\n",
    "- [ 5 - Interacting with the Gym Environment](#5)\n",
    "    - [ 5.1 Exploring the Environment's Dynamics](#5.1)\n",
    "- [ 6 - Deep Q-Learning](#6)\n",
    "  - [ 6.1 Target Network](#6.1)\n",
    "    - [ Exercise 1](#ex01)\n",
    "  - [ 6.2 Experience Replay](#6.2)\n",
    "- [ 7 - Deep Q-Learning Algorithm with Experience Replay](#7)\n",
    "  - [ Exercise 2](#ex02)\n",
    "- [ 8 - Update the Network Weights](#8)\n",
    "- [ 9 - Train the Agent](#9)\n",
    "- [ 10 - See the Trained Agent In Action](#10)\n",
    "- [ 11 - Congratulations!](#11)\n",
    "- [ 12 - References](#12)\n"
   ]
  },
  {
   "cell_type": "markdown",
   "metadata": {},
   "source": [
    "_**NOTE:** To prevent errors from the autograder, you are not allowed to edit or delete non-graded cells in this lab. Please also refrain from adding any new cells. \n",
    "**Once you have passed this assignment** and want to experiment with any of the non-graded code, you may follow the instructions at the bottom of this notebook._"
   ]
  },
  {
   "cell_type": "markdown",
   "metadata": {},
   "source": [
    "<a name=\"1\"></a>\n",
    "## 1 - Import Packages\n",
    "\n",
    "We'll make use of the following packages:\n",
    "- `numpy` is a package for scientific computing in python.\n",
    "- `deque` will be our data structure for our memory buffer.\n",
    "- `namedtuple` will be used to store the experience tuples.\n",
    "- The `gym` toolkit is a collection of environments that can be used to test reinforcement learning algorithms. We should note that in this notebook we are using `gym` version `0.24.0`.\n",
    "- `PIL.Image` and `pyvirtualdisplay` are needed to render the Lunar Lander environment.\n",
    "- We will use several modules from the `tensorflow.keras` framework for building deep learning models.\n",
    "- `utils` is a module that contains helper functions for this assignment. You do not need to modify the code in this file.\n",
    "\n",
    "Run the cell below to import all the necessary packages."
   ]
  },
  {
   "cell_type": "code",
   "execution_count": 1,
   "metadata": {
    "deletable": false,
    "editable": false,
    "id": "KYbOPKRtfQOr"
   },
   "outputs": [],
   "source": [
    "import time\n",
    "from collections import deque, namedtuple\n",
    "\n",
    "import gym\n",
    "import numpy as np\n",
    "import PIL.Image\n",
    "import tensorflow as tf\n",
    "import utils\n",
    "\n",
    "from pyvirtualdisplay import Display\n",
    "from tensorflow.keras import Sequential\n",
    "from tensorflow.keras.layers import Dense, Input\n",
    "from tensorflow.keras.losses import MSE\n",
    "from tensorflow.keras.optimizers import Adam"
   ]
  },
  {
   "cell_type": "code",
   "execution_count": 2,
   "metadata": {
    "deletable": false,
    "editable": false
   },
   "outputs": [],
   "source": [
    "# Set up a virtual display to render the Lunar Lander environment.\n",
    "Display(visible=0, size=(840, 480)).start();\n",
    "\n",
    "# Set the random seed for TensorFlow\n",
    "tf.random.set_seed(utils.SEED)"
   ]
  },
  {
   "cell_type": "markdown",
   "metadata": {},
   "source": [
    "<a name=\"2\"></a>\n",
    "## 2 - Hyperparameters\n",
    "\n",
    "Run the cell below to set the hyperparameters."
   ]
  },
  {
   "cell_type": "code",
   "execution_count": 3,
   "metadata": {
    "deletable": false,
    "editable": false
   },
   "outputs": [],
   "source": [
    "MEMORY_SIZE = 100_000     # size of memory buffer\n",
    "GAMMA = 0.995             # discount factor\n",
    "ALPHA = 1e-3              # learning rate  \n",
    "NUM_STEPS_FOR_UPDATE = 4  # perform a learning update every C time steps"
   ]
  },
  {
   "cell_type": "markdown",
   "metadata": {},
   "source": [
    "<a name=\"3\"></a>\n",
    "## 3 - The Lunar Lander Environment\n",
    "\n",
    "In this notebook we will be using [OpenAI's Gym Library](https://www.gymlibrary.dev/). The Gym library provides a wide variety of environments for reinforcement learning. To put it simply, an environment represents a problem or task to be solved. In this notebook, we will try to solve the Lunar Lander environment using reinforcement learning.\n",
    "\n",
    "The goal of the Lunar Lander environment is to land the lunar lander safely on the landing pad on the surface of the moon. The landing pad is designated by two flag poles and its center is at coordinates `(0,0)` but the lander is also allowed to land outside of the landing pad. The lander starts at the top center of the environment with a random initial force applied to its center of mass and has infinite fuel. The environment is considered solved if you get `200` points. \n",
    "\n",
    "<br>\n",
    "<br>\n",
    "<figure>\n",
    "  <img src = \"images/lunar_lander.gif\" width = 40%>\n",
    "      <figcaption style = \"text-align: center; font-style: italic\">Fig 1. Lunar Lander Environment.</figcaption>\n",
    "</figure>\n",
    "\n",
    "\n",
    "\n",
    "<a name=\"3.1\"></a>\n",
    "### 3.1 Action Space\n",
    "\n",
    "The agent has four discrete actions available:\n",
    "\n",
    "* Do nothing.\n",
    "* Fire right engine.\n",
    "* Fire main engine.\n",
    "* Fire left engine.\n",
    "\n",
    "Each action has a corresponding numerical value:\n",
    "\n",
    "```python\n",
    "Do nothing = 0\n",
    "Fire right engine = 1\n",
    "Fire main engine = 2\n",
    "Fire left engine = 3\n",
    "```\n",
    "\n",
    "<a name=\"3.2\"></a>\n",
    "### 3.2 Observation Space\n",
    "\n",
    "The agent's observation space consists of a state vector with 8 variables:\n",
    "\n",
    "* Its $(x,y)$ coordinates. The landing pad is always at coordinates $(0,0)$.\n",
    "* Its linear velocities $(\\dot x,\\dot y)$.\n",
    "* Its angle $\\theta$.\n",
    "* Its angular velocity $\\dot \\theta$.\n",
    "* Two booleans, $l$ and $r$, that represent whether each leg is in contact with the ground or not.\n",
    "\n",
    "<a name=\"3.3\"></a>\n",
    "### 3.3 Rewards\n",
    "\n",
    "After every step, a reward is granted. The total reward of an episode is the sum of the rewards for all the steps within that episode.\n",
    "\n",
    "For each step, the reward:\n",
    "- is increased/decreased the closer/further the lander is to the landing pad.\n",
    "- is increased/decreased the slower/faster the lander is moving.\n",
    "- is decreased the more the lander is tilted (angle not horizontal).\n",
    "- is increased by 10 points for each leg that is in contact with the ground.\n",
    "- is decreased by 0.03 points each frame a side engine is firing.\n",
    "- is decreased by 0.3 points each frame the main engine is firing.\n",
    "\n",
    "The episode receives an additional reward of -100 or +100 points for crashing or landing safely respectively.\n",
    "\n",
    "<a name=\"3.4\"></a>\n",
    "### 3.4 Episode Termination\n",
    "\n",
    "An episode ends (i.e the environment enters a terminal state) if:\n",
    "\n",
    "* The lunar lander crashes (i.e if the body of the lunar lander comes in contact with the surface of the moon).\n",
    "\n",
    "* The absolute value of the lander's $x$-coordinate is greater than 1 (i.e. it goes beyond the left or right border)\n",
    "\n",
    "You can check out the [Open AI Gym documentation](https://www.gymlibrary.dev/environments/box2d/lunar_lander/) for a full description of the environment. "
   ]
  },
  {
   "cell_type": "markdown",
   "metadata": {},
   "source": [
    "<a name=\"4\"></a>\n",
    "## 4 - Load the Environment\n",
    "\n",
    "We start by loading the `LunarLander-v2` environment from the `gym` library by using the `.make()` method. `LunarLander-v2` is the latest version of the Lunar Lander environment and you can read about its version history in the [Open AI Gym documentation](https://www.gymlibrary.dev/environments/box2d/lunar_lander/#version-history)."
   ]
  },
  {
   "cell_type": "code",
   "execution_count": 4,
   "metadata": {
    "deletable": false,
    "editable": false,
    "id": "ILVMYKewfR0n"
   },
   "outputs": [],
   "source": [
    "env = gym.make('LunarLander-v2')"
   ]
  },
  {
   "cell_type": "markdown",
   "metadata": {},
   "source": [
    "Once we load the environment we use the `.reset()` method to reset the environment to the initial state. The lander starts at the top center of the environment and we can render the first frame of the environment by using the `.render()` method."
   ]
  },
  {
   "cell_type": "code",
   "execution_count": 5,
   "metadata": {
    "deletable": false,
    "editable": false
   },
   "outputs": [
    {
     "data": {
      "image/png": "[encoded data removed]",
      "text/plain": [
       "<PIL.Image.Image image mode=RGB size=600x400 at 0x7FDF11298ED0>"
      ]
     },
     "execution_count": 5,
     "metadata": {},
     "output_type": "execute_result"
    }
   ],
   "source": [
    "env.reset()\n",
    "PIL.Image.fromarray(env.render(mode='rgb_array'))"
   ]
  },
  {
   "cell_type": "markdown",
   "metadata": {},
   "source": [
    "In order to build our neural network later on we need to know the size of the state vector and the number of valid actions. We can get this information from our environment by using the `.observation_space.shape` and `action_space.n` methods, respectively."
   ]
  },
  {
   "cell_type": "code",
   "execution_count": 6,
   "metadata": {
    "deletable": false,
    "editable": false,
    "id": "x3fdqdG4CUu2"
   },
   "outputs": [
    {
     "name": "stdout",
     "output_type": "stream",
     "text": [
      "State Shape: (8,)\n",
      "Number of actions: 4\n"
     ]
    }
   ],
   "source": [
    "state_size = env.observation_space.shape\n",
    "num_actions = env.action_space.n\n",
    "\n",
    "print('State Shape:', state_size)\n",
    "print('Number of actions:', num_actions)"
   ]
  },
  {
   "cell_type": "markdown",
   "metadata": {},
   "source": [
    "<a name=\"5\"></a>\n",
    "## 5 - Interacting with the Gym Environment\n",
    "\n",
    "The Gym library implements the standard “agent-environment loop” formalism:\n",
    "\n",
    "<br>\n",
    "<center>\n",
    "<video src = \"./videos/rl_formalism.m4v\" width=\"840\" height=\"480\" controls autoplay loop poster=\"./images/rl_formalism.png\"> </video>\n",
    "<figcaption style = \"text-align:center; font-style:italic\">Fig 2. Agent-environment Loop Formalism.</figcaption>\n",
    "</center>\n",
    "<br>\n",
    "\n",
    "In the standard “agent-environment loop” formalism, an agent interacts with the environment in discrete time steps $t=0,1,2,...$. At each time step $t$, the agent uses a policy $\\pi$ to select an action $A_t$ based on its observation of the environment's state $S_t$. The agent receives a numerical reward $R_t$ and on the next time step, moves to a new state $S_{t+1}$.\n",
    "\n",
    "<a name=\"5.1\"></a>\n",
    "### 5.1 Exploring the Environment's Dynamics\n",
    "\n",
    "In Open AI's Gym environments, we use the `.step()` method to run a single time step of the environment's dynamics. In the version of `gym` that we are using the `.step()` method accepts an action and returns four values:\n",
    "\n",
    "* `observation` (**object**): an environment-specific object representing your observation of the environment. In the Lunar Lander environment this corresponds to a numpy array containing the positions and velocities of the lander as described in section [3.2 Observation Space](#3.2).\n",
    "\n",
    "\n",
    "* `reward` (**float**): amount of reward returned as a result of taking the given action. In the Lunar Lander environment this corresponds to a float of type `numpy.float64` as described in section [3.3 Rewards](#3.3).\n",
    "\n",
    "\n",
    "* `done` (**boolean**): When done is `True`, it indicates the episode has terminated and it’s time to reset the environment. \n",
    "\n",
    "\n",
    "* `info` (**dictionary**): diagnostic information useful for debugging. We won't be using this variable in this notebook but it is shown here for completeness.\n",
    "\n",
    "To begin an episode, we need to reset the environment to an initial state. We do this by using the `.reset()` method. "
   ]
  },
  {
   "cell_type": "code",
   "execution_count": 7,
   "metadata": {
    "deletable": false,
    "editable": false
   },
   "outputs": [],
   "source": [
    "# Reset the environment and get the initial state.\n",
    "current_state = env.reset()"
   ]
  },
  {
   "cell_type": "markdown",
   "metadata": {},
   "source": [
    "Once the environment is reset, the agent can start taking actions in the environment by using the `.step()` method. Note that the agent can only take one action per time step. \n",
    "\n",
    "In the cell below you can select different actions and see how the returned values change depending on the action taken. Remember that in this environment the agent has four discrete actions available and we specify them in code by using their corresponding numerical value:\n",
    "\n",
    "```python\n",
    "Do nothing = 0\n",
    "Fire right engine = 1\n",
    "Fire main engine = 2\n",
    "Fire left engine = 3\n",
    "```"
   ]
  },
  {
   "cell_type": "code",
   "execution_count": 8,
   "metadata": {
    "deletable": false
   },
   "outputs": [
    {
     "data": {
      "text/html": [
       "<style  type=\"text/css\" >\n",
       "    #T_a01f0974_dae8_11ee_9c31_0242ac120043 th {\n",
       "          border: 1px solid grey;\n",
       "          text-align: center;\n",
       "    }    #T_a01f0974_dae8_11ee_9c31_0242ac120043 tbody td {\n",
       "          border: 1px solid grey;\n",
       "          text-align: center;\n",
       "    }    #T_a01f0974_dae8_11ee_9c31_0242ac120043row0_col0 {\n",
       "            background-color :  grey;\n",
       "        }    #T_a01f0974_dae8_11ee_9c31_0242ac120043row1_col1 {\n",
       "            background-color :  grey;\n",
       "        }    #T_a01f0974_dae8_11ee_9c31_0242ac120043row1_col2 {\n",
       "            background-color :  grey;\n",
       "        }    #T_a01f0974_dae8_11ee_9c31_0242ac120043row1_col3 {\n",
       "            background-color :  grey;\n",
       "        }    #T_a01f0974_dae8_11ee_9c31_0242ac120043row1_col4 {\n",
       "            background-color :  grey;\n",
       "        }    #T_a01f0974_dae8_11ee_9c31_0242ac120043row1_col5 {\n",
       "            background-color :  grey;\n",
       "        }    #T_a01f0974_dae8_11ee_9c31_0242ac120043row1_col6 {\n",
       "            background-color :  grey;\n",
       "        }    #T_a01f0974_dae8_11ee_9c31_0242ac120043row1_col7 {\n",
       "            background-color :  grey;\n",
       "        }    #T_a01f0974_dae8_11ee_9c31_0242ac120043row1_col8 {\n",
       "            background-color :  grey;\n",
       "        }    #T_a01f0974_dae8_11ee_9c31_0242ac120043row1_col9 {\n",
       "            background-color :  grey;\n",
       "        }    #T_a01f0974_dae8_11ee_9c31_0242ac120043row1_col10 {\n",
       "            background-color :  grey;\n",
       "        }    #T_a01f0974_dae8_11ee_9c31_0242ac120043row1_col11 {\n",
       "            background-color :  grey;\n",
       "        }    #T_a01f0974_dae8_11ee_9c31_0242ac120043row2_col0 {\n",
       "            background-color :  grey;\n",
       "        }    #T_a01f0974_dae8_11ee_9c31_0242ac120043row3_col1 {\n",
       "            background-color :  grey;\n",
       "        }    #T_a01f0974_dae8_11ee_9c31_0242ac120043row3_col2 {\n",
       "            background-color :  grey;\n",
       "        }    #T_a01f0974_dae8_11ee_9c31_0242ac120043row3_col3 {\n",
       "            background-color :  grey;\n",
       "        }    #T_a01f0974_dae8_11ee_9c31_0242ac120043row3_col4 {\n",
       "            background-color :  grey;\n",
       "        }    #T_a01f0974_dae8_11ee_9c31_0242ac120043row3_col5 {\n",
       "            background-color :  grey;\n",
       "        }    #T_a01f0974_dae8_11ee_9c31_0242ac120043row3_col6 {\n",
       "            background-color :  grey;\n",
       "        }    #T_a01f0974_dae8_11ee_9c31_0242ac120043row3_col7 {\n",
       "            background-color :  grey;\n",
       "        }    #T_a01f0974_dae8_11ee_9c31_0242ac120043row3_col8 {\n",
       "            background-color :  grey;\n",
       "        }    #T_a01f0974_dae8_11ee_9c31_0242ac120043row3_col9 {\n",
       "            background-color :  grey;\n",
       "        }    #T_a01f0974_dae8_11ee_9c31_0242ac120043row3_col10 {\n",
       "            background-color :  grey;\n",
       "        }    #T_a01f0974_dae8_11ee_9c31_0242ac120043row3_col11 {\n",
       "            background-color :  grey;\n",
       "        }    #T_a01f0974_dae8_11ee_9c31_0242ac120043row4_col1 {\n",
       "            background-color :  grey;\n",
       "        }    #T_a01f0974_dae8_11ee_9c31_0242ac120043row4_col2 {\n",
       "            background-color :  grey;\n",
       "        }    #T_a01f0974_dae8_11ee_9c31_0242ac120043row4_col3 {\n",
       "            background-color :  grey;\n",
       "        }    #T_a01f0974_dae8_11ee_9c31_0242ac120043row4_col4 {\n",
       "            background-color :  grey;\n",
       "        }    #T_a01f0974_dae8_11ee_9c31_0242ac120043row4_col5 {\n",
       "            background-color :  grey;\n",
       "        }    #T_a01f0974_dae8_11ee_9c31_0242ac120043row4_col6 {\n",
       "            background-color :  grey;\n",
       "        }    #T_a01f0974_dae8_11ee_9c31_0242ac120043row4_col7 {\n",
       "            background-color :  grey;\n",
       "        }    #T_a01f0974_dae8_11ee_9c31_0242ac120043row4_col8 {\n",
       "            background-color :  grey;\n",
       "        }    #T_a01f0974_dae8_11ee_9c31_0242ac120043row4_col9 {\n",
       "            background-color :  grey;\n",
       "        }    #T_a01f0974_dae8_11ee_9c31_0242ac120043row4_col10 {\n",
       "            background-color :  grey;\n",
       "        }    #T_a01f0974_dae8_11ee_9c31_0242ac120043row4_col11 {\n",
       "            background-color :  grey;\n",
       "        }</style><table id=\"T_a01f0974_dae8_11ee_9c31_0242ac120043\" ><thead>    <tr>        <th class=\"blank level0\" ></th>        <th class=\"col_heading level0 col0\" ></th>        <th class=\"col_heading level0 col1\" colspan=8>State Vector</th>        <th class=\"col_heading level0 col9\" colspan=3>Derived from the State Vector (the closer to zero, the better)</th>    </tr>    <tr>        <th class=\"blank level1\" ></th>        <th class=\"col_heading level1 col0\" ></th>        <th class=\"col_heading level1 col1\" colspan=2>Coordinate</th>        <th class=\"col_heading level1 col3\" colspan=2>Velocity</th>        <th class=\"col_heading level1 col5\" colspan=2>Tilting</th>        <th class=\"col_heading level1 col7\" colspan=2>Ground contact</th>        <th class=\"col_heading level1 col9\" >Distance from landing pad</th>        <th class=\"col_heading level1 col10\" >Velocity</th>        <th class=\"col_heading level1 col11\" >Tilting Angle (absolute value)</th>    </tr>    <tr>        <th class=\"blank level2\" ></th>        <th class=\"col_heading level2 col0\" ></th>        <th class=\"col_heading level2 col1\" >X (Horizontal)</th>        <th class=\"col_heading level2 col2\" >Y (Vertical)</th>        <th class=\"col_heading level2 col3\" >X (Horizontal)</th>        <th class=\"col_heading level2 col4\" >Y (Vertical)</th>        <th class=\"col_heading level2 col5\" >Angle</th>        <th class=\"col_heading level2 col6\" >Angular Velocity</th>        <th class=\"col_heading level2 col7\" >Left Leg?</th>        <th class=\"col_heading level2 col8\" >Right Leg?</th>        <th class=\"col_heading level2 col9\" ></th>        <th class=\"col_heading level2 col10\" ></th>        <th class=\"col_heading level2 col11\" ></th>    </tr></thead><tbody>\n",
       "                <tr>\n",
       "                        <th id=\"T_a01f0974_dae8_11ee_9c31_0242ac120043level0_row0\" class=\"row_heading level0 row0\" >Current State</th>\n",
       "                        <td id=\"T_a01f0974_dae8_11ee_9c31_0242ac120043row0_col0\" class=\"data row0 col0\" ></td>\n",
       "                        <td id=\"T_a01f0974_dae8_11ee_9c31_0242ac120043row0_col1\" class=\"data row0 col1\" >0.001919</td>\n",
       "                        <td id=\"T_a01f0974_dae8_11ee_9c31_0242ac120043row0_col2\" class=\"data row0 col2\" >1.422301</td>\n",
       "                        <td id=\"T_a01f0974_dae8_11ee_9c31_0242ac120043row0_col3\" class=\"data row0 col3\" >0.194400</td>\n",
       "                        <td id=\"T_a01f0974_dae8_11ee_9c31_0242ac120043row0_col4\" class=\"data row0 col4\" >0.505814</td>\n",
       "                        <td id=\"T_a01f0974_dae8_11ee_9c31_0242ac120043row0_col5\" class=\"data row0 col5\" >-0.002217</td>\n",
       "                        <td id=\"T_a01f0974_dae8_11ee_9c31_0242ac120043row0_col6\" class=\"data row0 col6\" >-0.044034</td>\n",
       "                        <td id=\"T_a01f0974_dae8_11ee_9c31_0242ac120043row0_col7\" class=\"data row0 col7\" >False</td>\n",
       "                        <td id=\"T_a01f0974_dae8_11ee_9c31_0242ac120043row0_col8\" class=\"data row0 col8\" >False</td>\n",
       "                        <td id=\"T_a01f0974_dae8_11ee_9c31_0242ac120043row0_col9\" class=\"data row0 col9\" >1.422302</td>\n",
       "                        <td id=\"T_a01f0974_dae8_11ee_9c31_0242ac120043row0_col10\" class=\"data row0 col10\" >0.541885</td>\n",
       "                        <td id=\"T_a01f0974_dae8_11ee_9c31_0242ac120043row0_col11\" class=\"data row0 col11\" >0.002217</td>\n",
       "            </tr>\n",
       "            <tr>\n",
       "                        <th id=\"T_a01f0974_dae8_11ee_9c31_0242ac120043level0_row1\" class=\"row_heading level0 row1\" >Action</th>\n",
       "                        <td id=\"T_a01f0974_dae8_11ee_9c31_0242ac120043row1_col0\" class=\"data row1 col0\" >Do nothing</td>\n",
       "                        <td id=\"T_a01f0974_dae8_11ee_9c31_0242ac120043row1_col1\" class=\"data row1 col1\" ></td>\n",
       "                        <td id=\"T_a01f0974_dae8_11ee_9c31_0242ac120043row1_col2\" class=\"data row1 col2\" ></td>\n",
       "                        <td id=\"T_a01f0974_dae8_11ee_9c31_0242ac120043row1_col3\" class=\"data row1 col3\" ></td>\n",
       "                        <td id=\"T_a01f0974_dae8_11ee_9c31_0242ac120043row1_col4\" class=\"data row1 col4\" ></td>\n",
       "                        <td id=\"T_a01f0974_dae8_11ee_9c31_0242ac120043row1_col5\" class=\"data row1 col5\" ></td>\n",
       "                        <td id=\"T_a01f0974_dae8_11ee_9c31_0242ac120043row1_col6\" class=\"data row1 col6\" ></td>\n",
       "                        <td id=\"T_a01f0974_dae8_11ee_9c31_0242ac120043row1_col7\" class=\"data row1 col7\" ></td>\n",
       "                        <td id=\"T_a01f0974_dae8_11ee_9c31_0242ac120043row1_col8\" class=\"data row1 col8\" ></td>\n",
       "                        <td id=\"T_a01f0974_dae8_11ee_9c31_0242ac120043row1_col9\" class=\"data row1 col9\" ></td>\n",
       "                        <td id=\"T_a01f0974_dae8_11ee_9c31_0242ac120043row1_col10\" class=\"data row1 col10\" ></td>\n",
       "                        <td id=\"T_a01f0974_dae8_11ee_9c31_0242ac120043row1_col11\" class=\"data row1 col11\" ></td>\n",
       "            </tr>\n",
       "            <tr>\n",
       "                        <th id=\"T_a01f0974_dae8_11ee_9c31_0242ac120043level0_row2\" class=\"row_heading level0 row2\" >Next State</th>\n",
       "                        <td id=\"T_a01f0974_dae8_11ee_9c31_0242ac120043row2_col0\" class=\"data row2 col0\" ></td>\n",
       "                        <td id=\"T_a01f0974_dae8_11ee_9c31_0242ac120043row2_col1\" class=\"data row2 col1\" >0.003839</td>\n",
       "                        <td id=\"T_a01f0974_dae8_11ee_9c31_0242ac120043row2_col2\" class=\"data row2 col2\" >1.433103</td>\n",
       "                        <td id=\"T_a01f0974_dae8_11ee_9c31_0242ac120043row2_col3\" class=\"data row2 col3\" >0.194137</td>\n",
       "                        <td id=\"T_a01f0974_dae8_11ee_9c31_0242ac120043row2_col4\" class=\"data row2 col4\" >0.480094</td>\n",
       "                        <td id=\"T_a01f0974_dae8_11ee_9c31_0242ac120043row2_col5\" class=\"data row2 col5\" >-0.004393</td>\n",
       "                        <td id=\"T_a01f0974_dae8_11ee_9c31_0242ac120043row2_col6\" class=\"data row2 col6\" >-0.043519</td>\n",
       "                        <td id=\"T_a01f0974_dae8_11ee_9c31_0242ac120043row2_col7\" class=\"data row2 col7\" >False</td>\n",
       "                        <td id=\"T_a01f0974_dae8_11ee_9c31_0242ac120043row2_col8\" class=\"data row2 col8\" >False</td>\n",
       "                        <td id=\"T_a01f0974_dae8_11ee_9c31_0242ac120043row2_col9\" class=\"data row2 col9\" >1.433108</td>\n",
       "                        <td id=\"T_a01f0974_dae8_11ee_9c31_0242ac120043row2_col10\" class=\"data row2 col10\" >0.517860</td>\n",
       "                        <td id=\"T_a01f0974_dae8_11ee_9c31_0242ac120043row2_col11\" class=\"data row2 col11\" >0.004393</td>\n",
       "            </tr>\n",
       "            <tr>\n",
       "                        <th id=\"T_a01f0974_dae8_11ee_9c31_0242ac120043level0_row3\" class=\"row_heading level0 row3\" >Reward</th>\n",
       "                        <td id=\"T_a01f0974_dae8_11ee_9c31_0242ac120043row3_col0\" class=\"data row3 col0\" >1.104326</td>\n",
       "                        <td id=\"T_a01f0974_dae8_11ee_9c31_0242ac120043row3_col1\" class=\"data row3 col1\" ></td>\n",
       "                        <td id=\"T_a01f0974_dae8_11ee_9c31_0242ac120043row3_col2\" class=\"data row3 col2\" ></td>\n",
       "                        <td id=\"T_a01f0974_dae8_11ee_9c31_0242ac120043row3_col3\" class=\"data row3 col3\" ></td>\n",
       "                        <td id=\"T_a01f0974_dae8_11ee_9c31_0242ac120043row3_col4\" class=\"data row3 col4\" ></td>\n",
       "                        <td id=\"T_a01f0974_dae8_11ee_9c31_0242ac120043row3_col5\" class=\"data row3 col5\" ></td>\n",
       "                        <td id=\"T_a01f0974_dae8_11ee_9c31_0242ac120043row3_col6\" class=\"data row3 col6\" ></td>\n",
       "                        <td id=\"T_a01f0974_dae8_11ee_9c31_0242ac120043row3_col7\" class=\"data row3 col7\" ></td>\n",
       "                        <td id=\"T_a01f0974_dae8_11ee_9c31_0242ac120043row3_col8\" class=\"data row3 col8\" ></td>\n",
       "                        <td id=\"T_a01f0974_dae8_11ee_9c31_0242ac120043row3_col9\" class=\"data row3 col9\" ></td>\n",
       "                        <td id=\"T_a01f0974_dae8_11ee_9c31_0242ac120043row3_col10\" class=\"data row3 col10\" ></td>\n",
       "                        <td id=\"T_a01f0974_dae8_11ee_9c31_0242ac120043row3_col11\" class=\"data row3 col11\" ></td>\n",
       "            </tr>\n",
       "            <tr>\n",
       "                        <th id=\"T_a01f0974_dae8_11ee_9c31_0242ac120043level0_row4\" class=\"row_heading level0 row4\" >Episode Terminated</th>\n",
       "                        <td id=\"T_a01f0974_dae8_11ee_9c31_0242ac120043row4_col0\" class=\"data row4 col0\" >False</td>\n",
       "                        <td id=\"T_a01f0974_dae8_11ee_9c31_0242ac120043row4_col1\" class=\"data row4 col1\" ></td>\n",
       "                        <td id=\"T_a01f0974_dae8_11ee_9c31_0242ac120043row4_col2\" class=\"data row4 col2\" ></td>\n",
       "                        <td id=\"T_a01f0974_dae8_11ee_9c31_0242ac120043row4_col3\" class=\"data row4 col3\" ></td>\n",
       "                        <td id=\"T_a01f0974_dae8_11ee_9c31_0242ac120043row4_col4\" class=\"data row4 col4\" ></td>\n",
       "                        <td id=\"T_a01f0974_dae8_11ee_9c31_0242ac120043row4_col5\" class=\"data row4 col5\" ></td>\n",
       "                        <td id=\"T_a01f0974_dae8_11ee_9c31_0242ac120043row4_col6\" class=\"data row4 col6\" ></td>\n",
       "                        <td id=\"T_a01f0974_dae8_11ee_9c31_0242ac120043row4_col7\" class=\"data row4 col7\" ></td>\n",
       "                        <td id=\"T_a01f0974_dae8_11ee_9c31_0242ac120043row4_col8\" class=\"data row4 col8\" ></td>\n",
       "                        <td id=\"T_a01f0974_dae8_11ee_9c31_0242ac120043row4_col9\" class=\"data row4 col9\" ></td>\n",
       "                        <td id=\"T_a01f0974_dae8_11ee_9c31_0242ac120043row4_col10\" class=\"data row4 col10\" ></td>\n",
       "                        <td id=\"T_a01f0974_dae8_11ee_9c31_0242ac120043row4_col11\" class=\"data row4 col11\" ></td>\n",
       "            </tr>\n",
       "    </tbody></table>"
      ],
      "text/plain": [
       "<pandas.io.formats.style.Styler at 0x7fde71589b50>"
      ]
     },
     "metadata": {},
     "output_type": "display_data"
    }
   ],
   "source": [
    "# Select an action\n",
    "action = 0\n",
    "\n",
    "# Run a single time step of the environment's dynamics with the given action.\n",
    "next_state, reward, done, _ = env.step(action)\n",
    "\n",
    "# Display table with values.\n",
    "utils.display_table(current_state, action, next_state, reward, done)\n",
    "\n",
    "# Replace the `current_state` with the state after the action is taken\n",
    "current_state = next_state"
   ]
  },
  {
   "cell_type": "markdown",
   "metadata": {},
   "source": [
    "In practice, when we train the agent we use a loop to allow the agent to take many consecutive actions during an episode."
   ]
  },
  {
   "cell_type": "markdown",
   "metadata": {},
   "source": [
    "<a name=\"6\"></a>\n",
    "## 6 - Deep Q-Learning\n",
    "\n",
    "In cases where both the state and action space are discrete we can estimate the action-value function iteratively by using the Bellman equation:\n",
    "\n",
    "$$\n",
    "Q_{i+1}(s,a) = R + \\gamma \\max_{a'}Q_i(s',a')\n",
    "$$\n",
    "\n",
    "This iterative method converges to the optimal action-value function $Q^*(s,a)$ as $i\\to\\infty$. This means that the agent just needs to gradually explore the state-action space and keep updating the estimate of $Q(s,a)$ until it converges to the optimal action-value function $Q^*(s,a)$. However, in cases where the state space is continuous it becomes practically impossible to explore the entire state-action space. Consequently, this also makes it practically impossible to gradually estimate $Q(s,a)$ until it converges to $Q^*(s,a)$.\n",
    "\n",
    "In the Deep $Q$-Learning, we solve this problem by using a neural network to estimate the action-value function $Q(s,a)\\approx Q^*(s,a)$. We call this neural network a $Q$-Network and it can be trained by adjusting its weights at each iteration to minimize the mean-squared error in the Bellman equation.\n",
    "\n",
    "Unfortunately, using neural networks in reinforcement learning to estimate action-value functions has proven to be highly unstable. Luckily, there's a couple of techniques that can be employed to avoid instabilities. These techniques consist of using a ***Target Network*** and ***Experience Replay***. We will explore these two techniques in the following sections."
   ]
  },
  {
   "cell_type": "markdown",
   "metadata": {},
   "source": [
    "<a name=\"6.1\"></a>\n",
    "### 6.1 Target Network\n",
    "\n",
    "We can train the $Q$-Network by adjusting it's weights at each iteration to minimize the mean-squared error in the Bellman equation, where the target values are given by:\n",
    "\n",
    "$$\n",
    "y = R + \\gamma \\max_{a'}Q(s',a';w)\n",
    "$$\n",
    "\n",
    "where $w$ are the weights of the $Q$-Network. This means that we are adjusting the weights $w$ at each iteration to minimize the following error:\n",
    "\n",
    "$$\n",
    "\\overbrace{\\underbrace{R + \\gamma \\max_{a'}Q(s',a'; w)}_{\\rm {y~target}} - Q(s,a;w)}^{\\rm {Error}}\n",
    "$$\n",
    "\n",
    "Notice that this forms a problem because the $y$ target is changing on every iteration. Having a constantly moving target can lead to oscillations and instabilities. To avoid this, we can create\n",
    "a separate neural network for generating the $y$ targets. We call this separate neural network the **target $\\hat Q$-Network** and it will have the same architecture as the original $Q$-Network. By using the target $\\hat Q$-Network, the above error becomes:\n",
    "\n",
    "$$\n",
    "\\overbrace{\\underbrace{R + \\gamma \\max_{a'}\\hat{Q}(s',a'; w^-)}_{\\rm {y~target}} - Q(s,a;w)}^{\\rm {Error}}\n",
    "$$\n",
    "\n",
    "where $w^-$ and $w$ are the weights of the target $\\hat Q$-Network and $Q$-Network, respectively.\n",
    "\n",
    "In practice, we will use the following algorithm: every $C$ time steps we will use the $\\hat Q$-Network to generate the $y$ targets and update the weights of the target $\\hat Q$-Network using the weights of the $Q$-Network. We will update the weights $w^-$ of the the target $\\hat Q$-Network using a **soft update**. This means that we will update the weights $w^-$ using the following rule:\n",
    " \n",
    "$$\n",
    "w^-\\leftarrow \\tau w + (1 - \\tau) w^-\n",
    "$$\n",
    "\n",
    "where $\\tau\\ll 1$. By using the soft update, we are ensuring that the target values, $y$, change slowly, which greatly improves the stability of our learning algorithm."
   ]
  },
  {
   "cell_type": "markdown",
   "metadata": {},
   "source": [
    "<a name=\"ex01\"></a>\n",
    "### Exercise 1\n",
    "\n",
    "In this exercise you will create the $Q$ and target $\\hat Q$ networks and set the optimizer. Remember that the Deep $Q$-Network (DQN) is a neural network that approximates the action-value function $Q(s,a)\\approx Q^*(s,a)$. It does this by learning how to map states to $Q$ values.\n",
    "\n",
    "To solve the Lunar Lander environment, we are going to employ a DQN with the following architecture:\n",
    "\n",
    "* An `Input` layer that takes `state_size` as input.\n",
    "\n",
    "* A `Dense` layer with `64` units and a `relu` activation function.\n",
    "\n",
    "* A `Dense` layer with `64` units and a `relu` activation function.\n",
    "\n",
    "* A `Dense` layer with `num_actions` units and a `linear` activation function. This will be the output layer of our network.\n",
    "\n",
    "\n",
    "In the cell below you should create the $Q$-Network and the target $\\hat Q$-Network using the model architecture described above. Remember that both the $Q$-Network and the target $\\hat Q$-Network have the same architecture.\n",
    "\n",
    "Lastly, you should set `Adam` as the optimizer with a learning rate equal to `ALPHA`. Recall that `ALPHA` was defined in the [Hyperparameters](#2) section. We should note that for this exercise you should use the already imported packages:\n",
    "```python\n",
    "from tensorflow.keras.layers import Dense, Input\n",
    "from tensorflow.keras.optimizers import Adam\n",
    "```"
   ]
  },
  {
   "cell_type": "code",
   "execution_count": 9,
   "metadata": {
    "deletable": false
   },
   "outputs": [],
   "source": [
    "# UNQ_C1\n",
    "# GRADED CELL\n",
    "\n",
    "# Create the Q-Network\n",
    "q_network = Sequential([\n",
    "    ### START CODE HERE ### \n",
    "    Input(shape=state_size),                      \n",
    "    Dense(units=64, activation='relu'),            \n",
    "    Dense(units=64, activation='relu'),            \n",
    "    Dense(units=num_actions, activation='linear'),\n",
    "    ### END CODE HERE ### \n",
    "    ])\n",
    "\n",
    "# Create the target Q^-Network\n",
    "target_q_network = Sequential([\n",
    "    ### START CODE HERE ### \n",
    "    Input(shape=state_size),                      \n",
    "    Dense(units=64, activation='relu'),            \n",
    "    Dense(units=64, activation='relu'),            \n",
    "    Dense(units=num_actions, activation='linear'),\n",
    "    ### END CODE HERE ###\n",
    "    ])\n",
    "\n",
    "### START CODE HERE ### \n",
    "optimizer = Adam(learning_rate=ALPHA)\n",
    "### END CODE HERE ###"
   ]
  },
  {
   "cell_type": "code",
   "execution_count": 10,
   "metadata": {
    "deletable": false,
    "editable": false
   },
   "outputs": [
    {
     "name": "stdout",
     "output_type": "stream",
     "text": [
      "\u001b[92mAll tests passed!\n",
      "\u001b[92mAll tests passed!\n",
      "\u001b[92mAll tests passed!\n"
     ]
    }
   ],
   "source": [
    "# UNIT TEST\n",
    "from public_tests import *\n",
    "\n",
    "test_network(q_network)\n",
    "test_network(target_q_network)\n",
    "test_optimizer(optimizer, ALPHA) "
   ]
  },
  {
   "cell_type": "markdown",
   "metadata": {},
   "source": [
    "<details>\n",
    "  <summary><font size=\"3\" color=\"darkgreen\"><b>Click for hints</b></font></summary>\n",
    "    \n",
    "```python\n",
    "# Create the Q-Network\n",
    "q_network = Sequential([\n",
    "    Input(shape=state_size),                      \n",
    "    Dense(units=64, activation='relu'),            \n",
    "    Dense(units=64, activation='relu'),            \n",
    "    Dense(units=num_actions, activation='linear'),\n",
    "    ])\n",
    "\n",
    "# Create the target Q^-Network\n",
    "target_q_network = Sequential([\n",
    "    Input(shape=state_size),                       \n",
    "    Dense(units=64, activation='relu'),            \n",
    "    Dense(units=64, activation='relu'),            \n",
    "    Dense(units=num_actions, activation='linear'), \n",
    "    ])\n",
    "\n",
    "optimizer = Adam(learning_rate=ALPHA)                                  \n",
    "``` "
   ]
  },
  {
   "cell_type": "markdown",
   "metadata": {},
   "source": [
    "<a name=\"6.2\"></a>\n",
    "### 6.2 Experience Replay\n",
    "\n",
    "When an agent interacts with the environment, the states, actions, and rewards the agent experiences are sequential by nature. If the agent tries to learn from these consecutive experiences it can run into problems due to the strong correlations between them. To avoid this, we employ a technique known as **Experience Replay** to generate uncorrelated experiences for training our agent. Experience replay consists of storing the agent's experiences (i.e the states, actions, and rewards the agent receives) in a memory buffer and then sampling a random mini-batch of experiences from the buffer to do the learning. The experience tuples $(S_t, A_t, R_t, S_{t+1})$ will be added to the memory buffer at each time step as the agent interacts with the environment.\n",
    "\n",
    "For convenience, we will store the experiences as named tuples."
   ]
  },
  {
   "cell_type": "code",
   "execution_count": null,
   "metadata": {
    "deletable": false,
    "editable": false
   },
   "outputs": [],
   "source": [
    "# Store experiences as named tuples\n",
    "experience = namedtuple(\"Experience\", field_names=[\"state\", \"action\", \"reward\", \"next_state\", \"done\"])"
   ]
  },
  {
   "cell_type": "markdown",
   "metadata": {},
   "source": [
    "By using experience replay we avoid problematic correlations, oscillations and instabilities. In addition, experience replay also allows the agent to potentially use the same experience in multiple weight updates, which increases data efficiency."
   ]
  },
  {
   "cell_type": "markdown",
   "metadata": {},
   "source": [
    "<a name=\"7\"></a>\n",
    "## 7 - Deep Q-Learning Algorithm with Experience Replay\n",
    "\n",
    "Now that we know all the techniques that we are going to use, we can put them together to arrive at the Deep Q-Learning Algorithm With Experience Replay.\n",
    "<br>\n",
    "<br>\n",
    "<figure>\n",
    "  <img src = \"images/deep_q_algorithm.png\" width = 90% style = \"border: thin silver solid; padding: 0px\">\n",
    "      <figcaption style = \"text-align: center; font-style: italic\">Fig 3. Deep Q-Learning with Experience Replay.</figcaption>\n",
    "</figure>"
   ]
  },
  {
   "cell_type": "markdown",
   "metadata": {},
   "source": [
    "<a name=\"ex02\"></a>\n",
    "### Exercise 2\n",
    "\n",
    "In this exercise you will implement line ***12*** of the algorithm outlined in *Fig 3* above and you will also compute the loss between the $y$ targets and the $Q(s,a)$ values. In the cell below, complete the `compute_loss` function by setting the $y$ targets equal to:\n",
    "\n",
    "$$\n",
    "\\begin{equation}\n",
    "    y_j =\n",
    "    \\begin{cases}\n",
    "      R_j & \\text{if episode terminates at step  } j+1\\\\\n",
    "      R_j + \\gamma \\max_{a'}\\hat{Q}(s_{j+1},a') & \\text{otherwise}\\\\\n",
    "    \\end{cases}       \n",
    "\\end{equation}\n",
    "$$\n",
    "\n",
    "Here are a couple of things to note:\n",
    "\n",
    "* The `compute_loss` function takes in a mini-batch of experience tuples. This mini-batch of experience tuples is unpacked to extract the `states`, `actions`, `rewards`, `next_states`, and `done_vals`. You should keep in mind that these variables are *TensorFlow Tensors* whose size will depend on the mini-batch size. For example, if the mini-batch size is `64` then both `rewards` and `done_vals` will be TensorFlow Tensors with `64` elements.\n",
    "\n",
    "\n",
    "* Using `if/else` statements to set the $y$ targets will not work when the variables are tensors with many elements. However, notice that you can use the `done_vals` to implement the above in a single line of code. To do this, recall that the `done` variable is a Boolean variable that takes the value `True` when an episode terminates at step $j+1$ and it is `False` otherwise. Taking into account that a Boolean value of `True` has the numerical value of `1` and a Boolean value of `False` has the numerical value of `0`, you can use the factor `(1 - done_vals)` to implement the above in a single line of code. Here's a hint: notice that `(1 - done_vals)` has a value of `0` when `done_vals` is `True` and a value of `1` when `done_vals` is `False`. \n",
    "\n",
    "Lastly, compute the loss by calculating the Mean-Squared Error (`MSE`) between the `y_targets` and the `q_values`. To calculate the mean-squared error you should use the already imported package `MSE`:\n",
    "```python\n",
    "from tensorflow.keras.losses import MSE\n",
    "```"
   ]
  },
  {
   "cell_type": "code",
   "execution_count": 11,
   "metadata": {
    "deletable": false
   },
   "outputs": [],
   "source": [
    "# UNQ_C2\n",
    "# GRADED FUNCTION: calculate_loss\n",
    "\n",
    "def compute_loss(experiences, gamma, q_network, target_q_network):\n",
    "    \"\"\" \n",
    "    Calculates the loss.\n",
    "    \n",
    "    Args:\n",
    "      experiences: (tuple) tuple of [\"state\", \"action\", \"reward\", \"next_state\", \"done\"] namedtuples\n",
    "      gamma: (float) The discount factor.\n",
    "      q_network: (tf.keras.Sequential) Keras model for predicting the q_values\n",
    "      target_q_network: (tf.keras.Sequential) Karas model for predicting the targets\n",
    "          \n",
    "    Returns:\n",
    "      loss: (TensorFlow Tensor(shape=(0,), dtype=int32)) the Mean-Squared Error between\n",
    "            the y targets and the Q(s,a) values.\n",
    "    \"\"\"\n",
    "    \n",
    "    # Unpack the mini-batch of experience tuples\n",
    "    states, actions, rewards, next_states, done_vals = experiences\n",
    "    \n",
    "    # Compute max Q^(s,a)\n",
    "    max_qsa = tf.reduce_max(target_q_network(next_states), axis=-1)\n",
    "    \n",
    "    # Set y = R if episode terminates, otherwise set y = R + γ max Q^(s,a).\n",
    "    ### START CODE HERE ### \n",
    "    y_targets = rewards + (gamma * max_qsa * (1 - done_vals))\n",
    "    ### END CODE HERE ###\n",
    "    \n",
    "    # Get the q_values\n",
    "    q_values = q_network(states)\n",
    "    q_values = tf.gather_nd(q_values, tf.stack([tf.range(q_values.shape[0]),\n",
    "                                                tf.cast(actions, tf.int32)], axis=1))\n",
    "        \n",
    "    # Compute the loss\n",
    "    ### START CODE HERE ### \n",
    "    loss = MSE(y_targets, q_values)\n",
    "    ### END CODE HERE ### \n",
    "    \n",
    "    return loss"
   ]
  },
  {
   "cell_type": "code",
   "execution_count": 12,
   "metadata": {
    "deletable": false,
    "editable": false
   },
   "outputs": [
    {
     "name": "stdout",
     "output_type": "stream",
     "text": [
      "\u001b[92mAll tests passed!\n"
     ]
    }
   ],
   "source": [
    "# UNIT TEST    \n",
    "test_compute_loss(compute_loss)"
   ]
  },
  {
   "cell_type": "markdown",
   "metadata": {},
   "source": [
    "<details>\n",
    "  <summary><font size=\"3\" color=\"darkgreen\"><b>Click for hints</b></font></summary>\n",
    "    \n",
    "```python\n",
    "def compute_loss(experiences, gamma, q_network, target_q_network):\n",
    "    \"\"\" \n",
    "    Calculates the loss.\n",
    "    \n",
    "    Args:\n",
    "      experiences: (tuple) tuple of [\"state\", \"action\", \"reward\", \"next_state\", \"done\"] namedtuples\n",
    "      gamma: (float) The discount factor.\n",
    "      q_network: (tf.keras.Sequential) Keras model for predicting the q_values\n",
    "      target_q_network: (tf.keras.Sequential) Keras model for predicting the targets\n",
    "          \n",
    "    Returns:\n",
    "      loss: (TensorFlow Tensor(shape=(0,), dtype=int32)) the Mean-Squared Error between\n",
    "            the y targets and the Q(s,a) values.\n",
    "    \"\"\"\n",
    "\n",
    "    \n",
    "    # Unpack the mini-batch of experience tuples\n",
    "    states, actions, rewards, next_states, done_vals = experiences\n",
    "    \n",
    "    # Compute max Q^(s,a)\n",
    "    max_qsa = tf.reduce_max(target_q_network(next_states), axis=-1)\n",
    "    \n",
    "    # Set y = R if episode terminates, otherwise set y = R + γ max Q^(s,a).\n",
    "    y_targets = rewards + (gamma * max_qsa * (1 - done_vals))\n",
    "    \n",
    "    # Get the q_values\n",
    "    q_values = q_network(states)\n",
    "    q_values = tf.gather_nd(q_values, tf.stack([tf.range(q_values.shape[0]),\n",
    "                                                tf.cast(actions, tf.int32)], axis=1))\n",
    "    \n",
    "    # Calculate the loss\n",
    "    loss = MSE(y_targets, q_values)\n",
    "    \n",
    "    return loss\n",
    "\n",
    "``` \n",
    "    "
   ]
  },
  {
   "cell_type": "markdown",
   "metadata": {},
   "source": [
    "<a name=\"8\"></a>\n",
    "## 8 - Update the Network Weights\n",
    "\n",
    "We will use the `agent_learn` function below to implement lines ***12 -14*** of the algorithm outlined in [Fig 3](#7). The `agent_learn` function will update the weights of the $Q$ and target $\\hat Q$ networks using a custom training loop. Because we are using a custom training loop we need to retrieve the gradients via a `tf.GradientTape` instance, and then call `optimizer.apply_gradients()` to update the weights of our $Q$-Network. Note that we are also using the `@tf.function` decorator to increase performance. Without this decorator our training will take twice as long. If you would like to know more about how to increase performance with `@tf.function` take a look at the [TensorFlow documentation](https://www.tensorflow.org/guide/function).\n",
    "\n",
    "The last line of this function updates the weights of the target $\\hat Q$-Network using a [soft update](#6.1). If you want to know how this is implemented in code we encourage you to take a look at the `utils.update_target_network` function in the `utils` module."
   ]
  },
  {
   "cell_type": "code",
   "execution_count": 13,
   "metadata": {
    "deletable": false,
    "editable": false
   },
   "outputs": [],
   "source": [
    "@tf.function\n",
    "def agent_learn(experiences, gamma):\n",
    "    \"\"\"\n",
    "    Updates the weights of the Q networks.\n",
    "    \n",
    "    Args:\n",
    "      experiences: (tuple) tuple of [\"state\", \"action\", \"reward\", \"next_state\", \"done\"] namedtuples\n",
    "      gamma: (float) The discount factor.\n",
    "    \n",
    "    \"\"\"\n",
    "    \n",
    "    # Calculate the loss\n",
    "    with tf.GradientTape() as tape:\n",
    "        loss = compute_loss(experiences, gamma, q_network, target_q_network)\n",
    "\n",
    "    # Get the gradients of the loss with respect to the weights.\n",
    "    gradients = tape.gradient(loss, q_network.trainable_variables)\n",
    "    \n",
    "    # Update the weights of the q_network.\n",
    "    optimizer.apply_gradients(zip(gradients, q_network.trainable_variables))\n",
    "\n",
    "    # update the weights of target q_network\n",
    "    utils.update_target_network(q_network, target_q_network)"
   ]
  },
  {
   "cell_type": "markdown",
   "metadata": {},
   "source": [
    "<a name=\"9\"></a>\n",
    "## 9 - Train the Agent\n",
    "\n",
    "We are now ready to train our agent to solve the Lunar Lander environment. In the cell below we will implement the algorithm in [Fig 3](#7) line by line (please note that we have included the same algorithm below for easy reference. This will prevent you from scrolling up and down the notebook):\n",
    "\n",
    "* **Line 1**: We initialize the `memory_buffer` with a capacity of $N =$ `MEMORY_SIZE`. Notice that we are using a `deque` as the data structure for our `memory_buffer`.\n",
    "\n",
    "\n",
    "* **Line 2**: We skip this line since we already initialized the `q_network` in [Exercise 1](#ex01).\n",
    "\n",
    "\n",
    "* **Line 3**: We initialize the `target_q_network` by setting its weights to be equal to those of the `q_network`.\n",
    "\n",
    "\n",
    "* **Line 4**: We start the outer loop. Notice that we have set $M =$ `num_episodes = 2000`. This number is reasonable because the agent should be able to solve the Lunar Lander environment in less than `2000` episodes using this notebook's default parameters.\n",
    "\n",
    "\n",
    "* **Line 5**: We use the `.reset()` method to reset the environment to the initial state and get the initial state.\n",
    "\n",
    "\n",
    "* **Line 6**: We start the inner loop. Notice that we have set $T =$ `max_num_timesteps = 1000`. This means that the episode will automatically terminate if the episode hasn't terminated after `1000` time steps.\n",
    "\n",
    "\n",
    "* **Line 7**: The agent observes the current `state` and chooses an `action` using an $\\epsilon$-greedy policy. Our agent starts out using a value of $\\epsilon =$ `epsilon = 1` which yields an $\\epsilon$-greedy policy that is equivalent to the equiprobable random policy. This means that at the beginning of our training, the agent is just going to take random actions regardless of the observed `state`. As training progresses we will decrease the value of $\\epsilon$ slowly towards a minimum value using a given $\\epsilon$-decay rate. We want this minimum value to be close to zero because a value of $\\epsilon = 0$ will yield an $\\epsilon$-greedy policy that is equivalent to the greedy policy. This means that towards the end of training, the agent will lean towards selecting the `action` that it believes (based on its past experiences) will maximize $Q(s,a)$. We will set the minimum $\\epsilon$ value to be `0.01` and not exactly 0 because we always want to keep a little bit of exploration during training. If you want to know how this is implemented in code we encourage you to take a look at the `utils.get_action` function in the `utils` module.\n",
    "\n",
    "\n",
    "* **Line 8**: We use the `.step()` method to take the given `action` in the environment and get the `reward` and the `next_state`. \n",
    "\n",
    "\n",
    "* **Line 9**: We store the `experience(state, action, reward, next_state, done)` tuple in our `memory_buffer`. Notice that we also store the `done` variable so that we can keep track of when an episode terminates. This allowed us to set the $y$ targets in [Exercise 2](#ex02).\n",
    "\n",
    "\n",
    "* **Line 10**: We check if the conditions are met to perform a learning update. We do this by using our custom `utils.check_update_conditions` function. This function checks if $C =$ `NUM_STEPS_FOR_UPDATE = 4` time steps have occured and if our `memory_buffer` has enough experience tuples to fill a mini-batch. For example, if the mini-batch size is `64`, then our `memory_buffer` should have more than `64` experience tuples in order to pass the latter condition. If the conditions are met, then the `utils.check_update_conditions` function will return a value of `True`, otherwise it will return a value of `False`.\n",
    "\n",
    "\n",
    "* **Lines 11 - 14**: If the `update` variable is `True` then we perform a learning update. The learning update consists of sampling a random mini-batch of experience tuples from our `memory_buffer`, setting the $y$ targets, performing gradient descent, and updating the weights of the networks. We will use the `agent_learn` function we defined in [Section 8](#8) to perform the latter 3.\n",
    "\n",
    "\n",
    "* **Line 15**: At the end of each iteration of the inner loop we set `next_state` as our new `state` so that the loop can start again from this new state. In addition, we check if the episode has reached a terminal state (i.e we check if `done = True`). If a terminal state has been reached, then we break out of the inner loop.\n",
    "\n",
    "\n",
    "* **Line 16**: At the end of each iteration of the outer loop we update the value of $\\epsilon$, and check if the environment has been solved. We consider that the environment has been solved if the agent receives an average of `200` points in the last `100` episodes. If the environment has not been solved we continue the outer loop and start a new episode.\n",
    "\n",
    "Finally, we wanted to note that we have included some extra variables to keep track of the total number of points the agent received in each episode. This will help us determine if the agent has solved the environment and it will also allow us to see how our agent performed during training. We also use the `time` module to measure how long the training takes. \n",
    "\n",
    "<br>\n",
    "<br>\n",
    "<figure>\n",
    "  <img src = \"images/deep_q_algorithm.png\" width = 90% style = \"border: thin silver solid; padding: 0px\">\n",
    "      <figcaption style = \"text-align: center; font-style: italic\">Fig 4. Deep Q-Learning with Experience Replay.</figcaption>\n",
    "</figure>\n",
    "<br>\n",
    "\n",
    "**Note:** With this notebook's default parameters, the following cell takes between 10 to 15 minutes to run. "
   ]
  },
  {
   "cell_type": "code",
   "execution_count": 14,
   "metadata": {
    "deletable": false,
    "editable": false
   },
   "outputs": [
    {
     "ename": "NameError",
     "evalue": "name 'experience' is not defined",
     "output_type": "error",
     "traceback": [
      "\u001b[0;31m---------------------------------------------------------------------------\u001b[0m",
      "\u001b[0;31mNameError\u001b[0m                                 Traceback (most recent call last)",
      "\u001b[0;32m<ipython-input-14-4b91c371776f>\u001b[0m in \u001b[0;36m<module>\u001b[0;34m\u001b[0m\n\u001b[1;32m     33\u001b[0m         \u001b[0;31m# Store experience tuple (S,A,R,S') in the memory buffer.\u001b[0m\u001b[0;34m\u001b[0m\u001b[0;34m\u001b[0m\u001b[0;34m\u001b[0m\u001b[0m\n\u001b[1;32m     34\u001b[0m         \u001b[0;31m# We store the done variable as well for convenience.\u001b[0m\u001b[0;34m\u001b[0m\u001b[0;34m\u001b[0m\u001b[0;34m\u001b[0m\u001b[0m\n\u001b[0;32m---> 35\u001b[0;31m         \u001b[0mmemory_buffer\u001b[0m\u001b[0;34m.\u001b[0m\u001b[0mappend\u001b[0m\u001b[0;34m(\u001b[0m\u001b[0mexperience\u001b[0m\u001b[0;34m(\u001b[0m\u001b[0mstate\u001b[0m\u001b[0;34m,\u001b[0m \u001b[0maction\u001b[0m\u001b[0;34m,\u001b[0m \u001b[0mreward\u001b[0m\u001b[0;34m,\u001b[0m \u001b[0mnext_state\u001b[0m\u001b[0;34m,\u001b[0m \u001b[0mdone\u001b[0m\u001b[0;34m)\u001b[0m\u001b[0;34m)\u001b[0m\u001b[0;34m\u001b[0m\u001b[0;34m\u001b[0m\u001b[0m\n\u001b[0m\u001b[1;32m     36\u001b[0m \u001b[0;34m\u001b[0m\u001b[0m\n\u001b[1;32m     37\u001b[0m         \u001b[0;31m# Only update the network every NUM_STEPS_FOR_UPDATE time steps.\u001b[0m\u001b[0;34m\u001b[0m\u001b[0;34m\u001b[0m\u001b[0;34m\u001b[0m\u001b[0m\n",
      "\u001b[0;31mNameError\u001b[0m: name 'experience' is not defined"
     ]
    }
   ],
   "source": [
    "start = time.time()\n",
    "\n",
    "num_episodes = 2000\n",
    "max_num_timesteps = 1000\n",
    "\n",
    "total_point_history = []\n",
    "\n",
    "num_p_av = 100    # number of total points to use for averaging\n",
    "epsilon = 1.0     # initial ε value for ε-greedy policy\n",
    "\n",
    "# Create a memory buffer D with capacity N\n",
    "memory_buffer = deque(maxlen=MEMORY_SIZE)\n",
    "\n",
    "# Set the target network weights equal to the Q-Network weights\n",
    "target_q_network.set_weights(q_network.get_weights())\n",
    "\n",
    "for i in range(num_episodes):\n",
    "    \n",
    "    # Reset the environment to the initial state and get the initial state\n",
    "    state = env.reset()\n",
    "    total_points = 0\n",
    "    \n",
    "    for t in range(max_num_timesteps):\n",
    "        \n",
    "        # From the current state S choose an action A using an ε-greedy policy\n",
    "        state_qn = np.expand_dims(state, axis=0)  # state needs to be the right shape for the q_network\n",
    "        q_values = q_network(state_qn)\n",
    "        action = utils.get_action(q_values, epsilon)\n",
    "        \n",
    "        # Take action A and receive reward R and the next state S'\n",
    "        next_state, reward, done, _ = env.step(action)\n",
    "        \n",
    "        # Store experience tuple (S,A,R,S') in the memory buffer.\n",
    "        # We store the done variable as well for convenience.\n",
    "        memory_buffer.append(experience(state, action, reward, next_state, done))\n",
    "        \n",
    "        # Only update the network every NUM_STEPS_FOR_UPDATE time steps.\n",
    "        update = utils.check_update_conditions(t, NUM_STEPS_FOR_UPDATE, memory_buffer)\n",
    "        \n",
    "        if update:\n",
    "            # Sample random mini-batch of experience tuples (S,A,R,S') from D\n",
    "            experiences = utils.get_experiences(memory_buffer)\n",
    "            \n",
    "            # Set the y targets, perform a gradient descent step,\n",
    "            # and update the network weights.\n",
    "            agent_learn(experiences, GAMMA)\n",
    "        \n",
    "        state = next_state.copy()\n",
    "        total_points += reward\n",
    "        \n",
    "        if done:\n",
    "            break\n",
    "            \n",
    "    total_point_history.append(total_points)\n",
    "    av_latest_points = np.mean(total_point_history[-num_p_av:])\n",
    "    \n",
    "    # Update the ε value\n",
    "    epsilon = utils.get_new_eps(epsilon)\n",
    "\n",
    "    print(f\"\\rEpisode {i+1} | Total point average of the last {num_p_av} episodes: {av_latest_points:.2f}\", end=\"\")\n",
    "\n",
    "    if (i+1) % num_p_av == 0:\n",
    "        print(f\"\\rEpisode {i+1} | Total point average of the last {num_p_av} episodes: {av_latest_points:.2f}\")\n",
    "\n",
    "    # We will consider that the environment is solved if we get an\n",
    "    # average of 200 points in the last 100 episodes.\n",
    "    if av_latest_points >= 200.0:\n",
    "        print(f\"\\n\\nEnvironment solved in {i+1} episodes!\")\n",
    "        q_network.save('lunar_lander_model.h5')\n",
    "        break\n",
    "        \n",
    "tot_time = time.time() - start\n",
    "\n",
    "print(f\"\\nTotal Runtime: {tot_time:.2f} s ({(tot_time/60):.2f} min)\")"
   ]
  },
  {
   "cell_type": "markdown",
   "metadata": {},
   "source": [
    "We can plot the total point history along with the moving average to see how our agent improved during training. If you want to know about the different plotting options available in the `utils.plot_history` function we encourage you to take a look at the `utils` module."
   ]
  },
  {
   "cell_type": "code",
   "execution_count": 15,
   "metadata": {
    "deletable": false,
    "editable": false,
    "id": "E_EUXxurfe8m",
    "scrolled": false
   },
   "outputs": [
    {
     "ename": "ZeroDivisionError",
     "evalue": "integer division or modulo by zero",
     "output_type": "error",
     "traceback": [
      "\u001b[0;31m---------------------------------------------------------------------------\u001b[0m",
      "\u001b[0;31mZeroDivisionError\u001b[0m                         Traceback (most recent call last)",
      "\u001b[0;32m<ipython-input-15-b7b3e169ae0d>\u001b[0m in \u001b[0;36m<module>\u001b[0;34m\u001b[0m\n\u001b[1;32m      1\u001b[0m \u001b[0;31m# Plot the total point history along with the moving average\u001b[0m\u001b[0;34m\u001b[0m\u001b[0;34m\u001b[0m\u001b[0;34m\u001b[0m\u001b[0m\n\u001b[0;32m----> 2\u001b[0;31m \u001b[0mutils\u001b[0m\u001b[0;34m.\u001b[0m\u001b[0mplot_history\u001b[0m\u001b[0;34m(\u001b[0m\u001b[0mtotal_point_history\u001b[0m\u001b[0;34m)\u001b[0m\u001b[0;34m\u001b[0m\u001b[0;34m\u001b[0m\u001b[0m\n\u001b[0m",
      "\u001b[0;32m~/work/utils.py\u001b[0m in \u001b[0;36mplot_history\u001b[0;34m(point_history, **kwargs)\u001b[0m\n\u001b[1;32m    246\u001b[0m     \u001b[0;32melse\u001b[0m\u001b[0;34m:\u001b[0m\u001b[0;34m\u001b[0m\u001b[0;34m\u001b[0m\u001b[0m\n\u001b[1;32m    247\u001b[0m         \u001b[0mplt\u001b[0m\u001b[0;34m.\u001b[0m\u001b[0mplot\u001b[0m\u001b[0;34m(\u001b[0m\u001b[0mepisode_num\u001b[0m\u001b[0;34m,\u001b[0m \u001b[0mpoints\u001b[0m\u001b[0;34m,\u001b[0m \u001b[0mlinewidth\u001b[0m\u001b[0;34m=\u001b[0m\u001b[0;36m1\u001b[0m\u001b[0;34m,\u001b[0m \u001b[0mcolor\u001b[0m\u001b[0;34m=\u001b[0m\u001b[0;34m\"cyan\"\u001b[0m\u001b[0;34m)\u001b[0m\u001b[0;34m\u001b[0m\u001b[0;34m\u001b[0m\u001b[0m\n\u001b[0;32m--> 248\u001b[0;31m         \u001b[0mplt\u001b[0m\u001b[0;34m.\u001b[0m\u001b[0mplot\u001b[0m\u001b[0;34m(\u001b[0m\u001b[0mepisode_num\u001b[0m\u001b[0;34m,\u001b[0m \u001b[0mrolling_mean\u001b[0m\u001b[0;34m,\u001b[0m \u001b[0mlinewidth\u001b[0m\u001b[0;34m=\u001b[0m\u001b[0;36m2\u001b[0m\u001b[0;34m,\u001b[0m \u001b[0mcolor\u001b[0m\u001b[0;34m=\u001b[0m\u001b[0;34m\"magenta\"\u001b[0m\u001b[0;34m)\u001b[0m\u001b[0;34m\u001b[0m\u001b[0;34m\u001b[0m\u001b[0m\n\u001b[0m\u001b[1;32m    249\u001b[0m \u001b[0;34m\u001b[0m\u001b[0m\n\u001b[1;32m    250\u001b[0m     \u001b[0mtext_color\u001b[0m \u001b[0;34m=\u001b[0m \u001b[0;34m\"black\"\u001b[0m\u001b[0;34m\u001b[0m\u001b[0;34m\u001b[0m\u001b[0m\n",
      "\u001b[0;32m/opt/conda/lib/python3.7/site-packages/matplotlib/pyplot.py\u001b[0m in \u001b[0;36mplot\u001b[0;34m(scalex, scaley, data, *args, **kwargs)\u001b[0m\n\u001b[1;32m   2761\u001b[0m     return gca().plot(\n\u001b[1;32m   2762\u001b[0m         *args, scalex=scalex, scaley=scaley, **({\"data\": data} if data\n\u001b[0;32m-> 2763\u001b[0;31m         is not None else {}), **kwargs)\n\u001b[0m\u001b[1;32m   2764\u001b[0m \u001b[0;34m\u001b[0m\u001b[0m\n\u001b[1;32m   2765\u001b[0m \u001b[0;34m\u001b[0m\u001b[0m\n",
      "\u001b[0;32m/opt/conda/lib/python3.7/site-packages/matplotlib/axes/_axes.py\u001b[0m in \u001b[0;36mplot\u001b[0;34m(self, scalex, scaley, data, *args, **kwargs)\u001b[0m\n\u001b[1;32m   1644\u001b[0m         \"\"\"\n\u001b[1;32m   1645\u001b[0m         \u001b[0mkwargs\u001b[0m \u001b[0;34m=\u001b[0m \u001b[0mcbook\u001b[0m\u001b[0;34m.\u001b[0m\u001b[0mnormalize_kwargs\u001b[0m\u001b[0;34m(\u001b[0m\u001b[0mkwargs\u001b[0m\u001b[0;34m,\u001b[0m \u001b[0mmlines\u001b[0m\u001b[0;34m.\u001b[0m\u001b[0mLine2D\u001b[0m\u001b[0;34m)\u001b[0m\u001b[0;34m\u001b[0m\u001b[0;34m\u001b[0m\u001b[0m\n\u001b[0;32m-> 1646\u001b[0;31m         \u001b[0mlines\u001b[0m \u001b[0;34m=\u001b[0m \u001b[0;34m[\u001b[0m\u001b[0;34m*\u001b[0m\u001b[0mself\u001b[0m\u001b[0;34m.\u001b[0m\u001b[0m_get_lines\u001b[0m\u001b[0;34m(\u001b[0m\u001b[0;34m*\u001b[0m\u001b[0margs\u001b[0m\u001b[0;34m,\u001b[0m \u001b[0mdata\u001b[0m\u001b[0;34m=\u001b[0m\u001b[0mdata\u001b[0m\u001b[0;34m,\u001b[0m \u001b[0;34m**\u001b[0m\u001b[0mkwargs\u001b[0m\u001b[0;34m)\u001b[0m\u001b[0;34m]\u001b[0m\u001b[0;34m\u001b[0m\u001b[0;34m\u001b[0m\u001b[0m\n\u001b[0m\u001b[1;32m   1647\u001b[0m         \u001b[0;32mfor\u001b[0m \u001b[0mline\u001b[0m \u001b[0;32min\u001b[0m \u001b[0mlines\u001b[0m\u001b[0;34m:\u001b[0m\u001b[0;34m\u001b[0m\u001b[0;34m\u001b[0m\u001b[0m\n\u001b[1;32m   1648\u001b[0m             \u001b[0mself\u001b[0m\u001b[0;34m.\u001b[0m\u001b[0madd_line\u001b[0m\u001b[0;34m(\u001b[0m\u001b[0mline\u001b[0m\u001b[0;34m)\u001b[0m\u001b[0;34m\u001b[0m\u001b[0;34m\u001b[0m\u001b[0m\n",
      "\u001b[0;32m/opt/conda/lib/python3.7/site-packages/matplotlib/axes/_base.py\u001b[0m in \u001b[0;36m__call__\u001b[0;34m(self, *args, **kwargs)\u001b[0m\n\u001b[1;32m    214\u001b[0m                 \u001b[0mthis\u001b[0m \u001b[0;34m+=\u001b[0m \u001b[0margs\u001b[0m\u001b[0;34m[\u001b[0m\u001b[0;36m0\u001b[0m\u001b[0;34m]\u001b[0m\u001b[0;34m,\u001b[0m\u001b[0;34m\u001b[0m\u001b[0;34m\u001b[0m\u001b[0m\n\u001b[1;32m    215\u001b[0m                 \u001b[0margs\u001b[0m \u001b[0;34m=\u001b[0m \u001b[0margs\u001b[0m\u001b[0;34m[\u001b[0m\u001b[0;36m1\u001b[0m\u001b[0;34m:\u001b[0m\u001b[0;34m]\u001b[0m\u001b[0;34m\u001b[0m\u001b[0;34m\u001b[0m\u001b[0m\n\u001b[0;32m--> 216\u001b[0;31m             \u001b[0;32myield\u001b[0m \u001b[0;32mfrom\u001b[0m \u001b[0mself\u001b[0m\u001b[0;34m.\u001b[0m\u001b[0m_plot_args\u001b[0m\u001b[0;34m(\u001b[0m\u001b[0mthis\u001b[0m\u001b[0;34m,\u001b[0m \u001b[0mkwargs\u001b[0m\u001b[0;34m)\u001b[0m\u001b[0;34m\u001b[0m\u001b[0;34m\u001b[0m\u001b[0m\n\u001b[0m\u001b[1;32m    217\u001b[0m \u001b[0;34m\u001b[0m\u001b[0m\n\u001b[1;32m    218\u001b[0m     \u001b[0;32mdef\u001b[0m \u001b[0mget_next_color\u001b[0m\u001b[0;34m(\u001b[0m\u001b[0mself\u001b[0m\u001b[0;34m)\u001b[0m\u001b[0;34m:\u001b[0m\u001b[0;34m\u001b[0m\u001b[0;34m\u001b[0m\u001b[0m\n",
      "\u001b[0;32m/opt/conda/lib/python3.7/site-packages/matplotlib/axes/_base.py\u001b[0m in \u001b[0;36m_plot_args\u001b[0;34m(self, tup, kwargs)\u001b[0m\n\u001b[1;32m    362\u001b[0m                 \"non-matching shapes is deprecated.\")\n\u001b[1;32m    363\u001b[0m         return [func(x[:, j % ncx], y[:, j % ncy], kw, kwargs)\n\u001b[0;32m--> 364\u001b[0;31m                 for j in range(max(ncx, ncy))]\n\u001b[0m\u001b[1;32m    365\u001b[0m \u001b[0;34m\u001b[0m\u001b[0m\n\u001b[1;32m    366\u001b[0m \u001b[0;34m\u001b[0m\u001b[0m\n",
      "\u001b[0;32m/opt/conda/lib/python3.7/site-packages/matplotlib/axes/_base.py\u001b[0m in \u001b[0;36m<listcomp>\u001b[0;34m(.0)\u001b[0m\n\u001b[1;32m    362\u001b[0m                 \"non-matching shapes is deprecated.\")\n\u001b[1;32m    363\u001b[0m         return [func(x[:, j % ncx], y[:, j % ncy], kw, kwargs)\n\u001b[0;32m--> 364\u001b[0;31m                 for j in range(max(ncx, ncy))]\n\u001b[0m\u001b[1;32m    365\u001b[0m \u001b[0;34m\u001b[0m\u001b[0m\n\u001b[1;32m    366\u001b[0m \u001b[0;34m\u001b[0m\u001b[0m\n",
      "\u001b[0;31mZeroDivisionError\u001b[0m: integer division or modulo by zero"
     ]
    },
    {
     "data": {
      "image/png": "[encoded data removed]",
      "text/plain": [
       "<Figure size 720x504 with 1 Axes>"
      ]
     },
     "metadata": {},
     "output_type": "display_data"
    }
   ],
   "source": [
    "# Plot the total point history along with the moving average\n",
    "utils.plot_history(total_point_history)"
   ]
  },
  {
   "cell_type": "markdown",
   "metadata": {
    "id": "c_xwgaX5MnYt"
   },
   "source": [
    "<a name=\"10\"></a>\n",
    "## 10 - See the Trained Agent In Action\n",
    "\n",
    "Now that we have trained our agent, we can see it in action. We will use the `utils.create_video` function to create a video of our agent interacting with the environment using the trained $Q$-Network. The `utils.create_video` function uses the `imageio` library to create the video. This library produces some warnings that can be distracting, so, to suppress these warnings we run the code below."
   ]
  },
  {
   "cell_type": "code",
   "execution_count": 16,
   "metadata": {
    "deletable": false,
    "editable": false
   },
   "outputs": [],
   "source": [
    "# Suppress warnings from imageio\n",
    "import logging\n",
    "logging.getLogger().setLevel(logging.ERROR)"
   ]
  },
  {
   "cell_type": "markdown",
   "metadata": {},
   "source": [
    "In the cell below we create a video of our agent interacting with the Lunar Lander environment using the trained `q_network`. The video is saved to the `videos` folder with the given `filename`. We use the `utils.embed_mp4` function to embed the video in the Jupyter Notebook so that we can see it here directly without having to download it.\n",
    "\n",
    "We should note that since the lunar lander starts with a random initial force applied to its center of mass, every time you run the cell below you will see a different video. If the agent was trained properly, it should be able to land the lunar lander in the landing pad every time, regardless of the initial force applied to its center of mass."
   ]
  },
  {
   "cell_type": "code",
   "execution_count": 17,
   "metadata": {
    "deletable": false,
    "editable": false,
    "id": "3Ttb_zLeJKiG"
   },
   "outputs": [
    {
     "data": {
      "text/html": [
       "\n",
       "    <video width=\"840\" height=\"480\" controls>\n",
       "    <source src=\"data:video/mp4;base64,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\" type=\"video/mp4\">\n",
       "    Your browser does not support the video tag.\n",
       "    </video>"
      ],
      "text/plain": [
       "<IPython.core.display.HTML object>"
      ]
     },
     "execution_count": 17,
     "metadata": {},
     "output_type": "execute_result"
    }
   ],
   "source": [
    "filename = \"./videos/lunar_lander.mp4\"\n",
    "\n",
    "utils.create_video(filename, env, q_network)\n",
    "utils.embed_mp4(filename)"
   ]
  },
  {
   "cell_type": "markdown",
   "metadata": {},
   "source": [
    "<a name=\"11\"></a>\n",
    "## 11 - Congratulations!\n",
    "\n",
    "You have successfully used Deep Q-Learning with Experience Replay to train an agent to land a lunar lander safely on a landing pad on the surface of the moon. Congratulations!"
   ]
  },
  {
   "cell_type": "markdown",
   "metadata": {},
   "source": [
    "<a name=\"12\"></a>\n",
    "## 12 - References\n",
    "\n",
    "If you would like to learn more about Deep Q-Learning, we recommend you check out the following papers.\n",
    "\n",
    "\n",
    "* Mnih, V., Kavukcuoglu, K., Silver, D. et al. Human-level control through deep reinforcement learning. Nature 518, 529–533 (2015).\n",
    "\n",
    "\n",
    "* Lillicrap, T. P., Hunt, J. J., Pritzel, A., et al. Continuous Control with Deep Reinforcement Learning. ICLR (2016).\n",
    "\n",
    "\n",
    "* Mnih, V., Kavukcuoglu, K., Silver, D. et al. Playing Atari with Deep Reinforcement Learning. arXiv e-prints.  arXiv:1312.5602 (2013)."
   ]
  },
  {
   "cell_type": "markdown",
   "metadata": {},
   "source": [
    "<details>\n",
    "  <summary><font size=\"2\" color=\"darkgreen\"><b>Please click here if you want to experiment with any of the non-graded code.</b></font></summary>\n",
    "    <p><i><b>Important Note: Please only do this when you've already passed the assignment to avoid problems with the autograder.</b></i>\n",
    "    <ol>\n",
    "        <li> On the notebook’s menu, click “View” > “Cell Toolbar” > “Edit Metadata”</li>\n",
    "        <li> Hit the “Edit Metadata” button next to the code cell which you want to lock/unlock</li>\n",
    "        <li> Set the attribute value for “editable” to:\n",
    "            <ul>\n",
    "                <li> “true” if you want to unlock it </li>\n",
    "                <li> “false” if you want to lock it </li>\n",
    "            </ul>\n",
    "        </li>\n",
    "        <li> On the notebook’s menu, click “View” > “Cell Toolbar” > “None” </li>\n",
    "    </ol>\n",
    "    <p> Here's a short demo of how to do the steps above: \n",
    "        <br>\n",
    "        <img src=\"https://lh3.google.com/u/0/d/14Xy_Mb17CZVgzVAgq7NCjMVBvSae3xO1\" align=\"center\" alt=\"unlock_cells.gif\">\n",
    "</details>"
   ]
  }
 ],
 "metadata": {
  "accelerator": "GPU",
  "colab": {
   "collapsed_sections": [],
   "name": "TensorFlow - Lunar Lander.ipynb",
   "provenance": []
  },
  "kernelspec": {
   "display_name": "Python 3",
   "language": "python",
   "name": "python3"
  },
  "language_info": {
   "codemirror_mode": {
    "name": "ipython",
    "version": 3
   },
   "file_extension": ".py",
   "mimetype": "text/x-python",
   "name": "python",
   "nbconvert_exporter": "python",
   "pygments_lexer": "ipython3",
   "version": "3.7.6"
  }
 },
 "nbformat": 4,
 "nbformat_minor": 1
}
